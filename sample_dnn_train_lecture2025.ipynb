{
 "cells": [
  {
   "cell_type": "code",
   "execution_count": 1,
   "id": "d80b250f",
   "metadata": {},
   "outputs": [],
   "source": [
    "import cv2\n",
    "import torch\n",
    "from torch.utils.data import DataLoader\n",
    "from torch import nn, optim\n",
    "import torch.nn.functional as F\n",
    "import torchvision\n",
    "from torchvision import datasets, transforms\n",
    "import numpy as np\n",
    "from time import time"
   ]
  },
  {
   "cell_type": "code",
   "execution_count": 2,
   "id": "d9575791",
   "metadata": {},
   "outputs": [],
   "source": [
    "path = '/Users/alexbovyrin/temp'"
   ]
  },
  {
   "cell_type": "code",
   "execution_count": null,
   "id": "c98050fb",
   "metadata": {},
   "outputs": [],
   "source": [
    "transform = transforms.Compose([transforms.ToTensor(), transforms.Normalize((0.5,), (0.5,))])\n",
    "\n",
    "# Аугментации для тренировочного датасета\n",
    "train_transform = transforms.Compose([\n",
    "    transforms.RandomRotation(10),           # поворот на ±10°\n",
    "    transforms.RandomAffine(0, translate=(0.1, 0.1)),  # случайный сдвиг\n",
    "    transforms.ToTensor(),                   # преобразование в тензор\n",
    "    transforms.Normalize((0.5,), (0.5,))     # нормализация\n",
    "])\n",
    "\n",
    "# Без аугментаций для теста\n",
    "test_transform = transforms.Compose([\n",
    "    transforms.ToTensor(),\n",
    "    transforms.Normalize((0.5,), (0.5,))\n",
    "])"
   ]
  },
  {
   "cell_type": "code",
   "execution_count": 4,
   "id": "2d91c9b9",
   "metadata": {},
   "outputs": [],
   "source": [
    "trainset = datasets.MNIST(path, download=True, train=True, transform=transform)\n",
    "testset = datasets.MNIST(path, download=True, train=False, transform=transform)"
   ]
  },
  {
   "cell_type": "code",
   "execution_count": 5,
   "id": "07437ed0",
   "metadata": {},
   "outputs": [],
   "source": [
    "trainloader = torch.utils.data.DataLoader(trainset, batch_size=64, shuffle=True)\n",
    "testloader = torch.utils.data.DataLoader(testset, batch_size=64, shuffle=True)"
   ]
  },
  {
   "cell_type": "code",
   "execution_count": 6,
   "id": "feb4658f",
   "metadata": {},
   "outputs": [],
   "source": [
    "dataiter = iter(trainloader)\n",
    "while False:\n",
    "    images, labels = dataiter.next()\n",
    "\n",
    "    cv2.imshow('image', images[0].numpy().squeeze())\n",
    "    if cv2.waitKey()==27:\n",
    "        cv2.destroyAllWindows()\n",
    "        break;"
   ]
  },
  {
   "cell_type": "code",
   "execution_count": 7,
   "id": "679140e5",
   "metadata": {},
   "outputs": [],
   "source": [
    "input_size = 28*28\n",
    "hidden_sizes = [input_size, 64]\n",
    "output_size = 10\n",
    "net = nn.Sequential(nn.Linear(input_size, hidden_sizes[0]),\n",
    "                      nn.ReLU(),\n",
    "                      nn.Linear(hidden_sizes[0], hidden_sizes[1]),\n",
    "                      nn.ReLU(),\n",
    "                      nn.Linear(hidden_sizes[1], output_size),\n",
    "                    )"
   ]
  },
  {
   "cell_type": "code",
   "execution_count": 8,
   "id": "ea1e840a",
   "metadata": {},
   "outputs": [],
   "source": [
    "criterion = nn.CrossEntropyLoss()\n",
    "optimizer = optim.SGD(net.parameters(), lr=0.003, momentum=0.9)\n"
   ]
  },
  {
   "cell_type": "code",
   "execution_count": 9,
   "id": "3f26354e",
   "metadata": {},
   "outputs": [
    {
     "name": "stdout",
     "output_type": "stream",
     "text": [
      "tensor(2.2938, grad_fn=<NllLossBackward>)\n"
     ]
    }
   ],
   "source": [
    "images, labels = next(iter(trainloader))\n",
    "res = net(images.view(-1, 28 * 28))\n",
    "loss = criterion(res, labels)\n",
    "print(loss)"
   ]
  },
  {
   "cell_type": "code",
   "execution_count": 10,
   "id": "b5b500f3",
   "metadata": {},
   "outputs": [
    {
     "name": "stdout",
     "output_type": "stream",
     "text": [
      "[1,   100] loss: 1.883\n",
      "[1,   200] loss: 0.781\n",
      "[1,   300] loss: 0.507\n",
      "[1,   400] loss: 0.422\n",
      "[1,   500] loss: 0.392\n",
      "[1,   600] loss: 0.380\n",
      "[1,   700] loss: 0.358\n",
      "[1,   800] loss: 0.333\n",
      "[1,   900] loss: 0.320\n",
      "\n",
      "Training Time (in minutes) = 0.26439294815063474\n"
     ]
    }
   ],
   "source": [
    "time0 = time()\n",
    "epochs = 1\n",
    "\n",
    "for e in range(epochs):\n",
    "    running_loss = 0\n",
    "    for i, (images, labels) in enumerate(trainloader, 0):\n",
    "        optimizer.zero_grad()\n",
    "        res = net(images.view(-1, 28 * 28))\n",
    "        loss = criterion(res, labels)\n",
    "        loss.backward()\n",
    "        optimizer.step()\n",
    "        \n",
    "        running_loss += loss.item()\n",
    "        \n",
    "        dbg_samples = 100\n",
    "        if (i + 1) % dbg_samples == 0:    \n",
    "            print('[%d, %5d] loss: %.3f' %\n",
    "                  (e+1, i+1, running_loss / dbg_samples))\n",
    "            running_loss = 0.0\n",
    "        \n",
    "print(\"\\nTraining Time (in minutes) =\",(time()-time0)/60)"
   ]
  },
  {
   "cell_type": "code",
   "execution_count": 11,
   "id": "4769b5cf",
   "metadata": {},
   "outputs": [
    {
     "name": "stdout",
     "output_type": "stream",
     "text": [
      "Accuracy: 91 %\n"
     ]
    }
   ],
   "source": [
    "correct = 0\n",
    "total = 0\n",
    "with torch.no_grad():\n",
    "    for data in testloader:\n",
    "        images, labels = data\n",
    "        images = images.view(images.shape[0], -1)\n",
    "        outputs = net(images)\n",
    "        _, predicted = torch.max(outputs.data, 1)\n",
    "        total += labels.size(0)\n",
    "        correct += (predicted == labels).sum().item()\n",
    "\n",
    "print('Accuracy: %d %%' % (100 * correct / total))"
   ]
  },
  {
   "cell_type": "code",
   "execution_count": 12,
   "id": "254e1af5",
   "metadata": {},
   "outputs": [],
   "source": [
    "x = torch.randn(64, 1, 28*28)"
   ]
  },
  {
   "cell_type": "code",
   "execution_count": 13,
   "id": "7262c8ac",
   "metadata": {},
   "outputs": [],
   "source": [
    "torch.onnx.export(net, x, path+'/mlp.onnx')"
   ]
  },
  {
   "cell_type": "code",
   "execution_count": 14,
   "id": "481f1bab",
   "metadata": {},
   "outputs": [],
   "source": [
    "class Net(nn.Module):\n",
    "    def __init__(self):\n",
    "        super(Net, self).__init__()\n",
    "        self.conv1 = nn.Conv2d(in_channels=1, out_channels=8, kernel_size= 5)\n",
    "        self.pool = nn.MaxPool2d(2, 2)\n",
    "        self.conv2 = nn.Conv2d(8, 16, 3)\n",
    "        self.fc1 = nn.Linear(16 * 5 * 5, 128)\n",
    "        self.fc2 = nn.Linear(128, 64)\n",
    "        self.fc3 = nn.Linear(64, 10)\n",
    "\n",
    "    def forward(self, x):\n",
    "        x = self.pool(F.relu(self.conv1(x)))\n",
    "        x = self.pool(F.relu(self.conv2(x)))\n",
    "        x = x.view(-1, 16 * 5 * 5)\n",
    "        x = F.relu(self.fc1(x))\n",
    "        x = F.relu(self.fc2(x))\n",
    "        x = self.fc3(x)\n",
    "        return x"
   ]
  },
  {
   "cell_type": "code",
   "execution_count": null,
   "id": "9a2f0fd5",
   "metadata": {},
   "outputs": [],
   "source": [
    "class DepthwiseSeparableNet(nn.Module):\n",
    "    def __init__(self):\n",
    "        super(DepthwiseSeparableNet, self).__init__()\n",
    "        \n",
    "        self.dw_conv1 = nn.Conv2d(1, 1, kernel_size=5, padding=0, groups=1)\n",
    "        self.pw_conv1 = nn.Conv2d(1, 8, kernel_size=1)\n",
    "\n",
    "        self.pool = nn.MaxPool2d(2, 2)\n",
    "\n",
    "        self.dw_conv2 = nn.Conv2d(8, 8, kernel_size=3, padding=0, groups=8)\n",
    "        self.pw_conv2 = nn.Conv2d(8, 16, kernel_size=1)\n",
    "\n",
    "        self.fc1 = nn.Linear(16 * 5 * 5, 128)\n",
    "        self.fc2 = nn.Linear(128, 64)\n",
    "        self.fc3 = nn.Linear(64, 10)\n",
    "\n",
    "    def forward(self, x):\n",
    "        x = self.pool(F.relu(self.pw_conv1(self.dw_conv1(x))))\n",
    "        x = self.pool(F.relu(self.pw_conv2(self.dw_conv2(x))))\n",
    "        x = x.view(-1, 16 * 5 * 5)\n",
    "        x = F.relu(self.fc1(x))\n",
    "        x = F.relu(self.fc2(x))\n",
    "        x = self.fc3(x)\n",
    "        return x\n"
   ]
  },
  {
   "cell_type": "code",
   "execution_count": null,
   "id": "120edb0d",
   "metadata": {},
   "outputs": [],
   "source": [
    "net = Net()\n",
    "DSNet = DepthwiseSeparableNet()"
   ]
  },
  {
   "cell_type": "code",
   "execution_count": 18,
   "id": "a0cbfb2b",
   "metadata": {},
   "outputs": [
    {
     "name": "stdout",
     "output_type": "stream",
     "text": [
      "[1,   100] loss: 0.162\n",
      "[1,   200] loss: 0.150\n",
      "[1,   300] loss: 0.135\n",
      "[1,   400] loss: 0.115\n",
      "[1,   500] loss: 0.122\n",
      "[1,   600] loss: 0.121\n",
      "[1,   700] loss: 0.097\n",
      "[1,   800] loss: 0.108\n",
      "[1,   900] loss: 0.096\n",
      "\n",
      "Training Time (in minutes) = 0.3424139142036438\n"
     ]
    }
   ],
   "source": [
    "criterion = nn.CrossEntropyLoss()\n",
    "optimizer = optim.SGD(net.parameters(), lr=0.003, momentum=0.9)\n",
    "\n",
    "time0 = time()\n",
    "epochs = 1\n",
    "\n",
    "for e in range(epochs):\n",
    "    running_loss = 0\n",
    "    for i, (images, labels) in enumerate(trainloader, 0):\n",
    "        optimizer.zero_grad()\n",
    "        res = net(images)\n",
    "        loss = criterion(res, labels)\n",
    "        loss.backward()\n",
    "        optimizer.step()\n",
    "        \n",
    "        running_loss += loss.item()\n",
    "        \n",
    "        dbg_samples = 100\n",
    "        if (i + 1) % dbg_samples == 0:    \n",
    "            print('[%d, %5d] loss: %.3f' %\n",
    "                  (e+1, i+1, running_loss / dbg_samples))\n",
    "            running_loss = 0.0\n",
    "        \n",
    "print(\"\\nTraining Time (in minutes) =\",(time()-time0)/60)"
   ]
  },
  {
   "cell_type": "code",
   "execution_count": 19,
   "id": "6ffd63d5",
   "metadata": {},
   "outputs": [
    {
     "name": "stdout",
     "output_type": "stream",
     "text": [
      "Accuracy: 97 %\n"
     ]
    }
   ],
   "source": [
    "correct = 0\n",
    "total = 0\n",
    "with torch.no_grad():\n",
    "    for data in testloader:\n",
    "        images, labels = data\n",
    "        outputs = net(images)\n",
    "        _, predicted = torch.max(outputs.data, 1)\n",
    "        total += labels.size(0)\n",
    "        correct += (predicted == labels).sum().item()\n",
    "\n",
    "print('Accuracy: %d %%' % (100 * correct / total))"
   ]
  },
  {
   "cell_type": "code",
   "execution_count": 20,
   "id": "8201d547",
   "metadata": {},
   "outputs": [],
   "source": [
    "x = torch.randn(64, 1, 28,28)"
   ]
  },
  {
   "cell_type": "code",
   "execution_count": 21,
   "id": "0e5db3aa",
   "metadata": {},
   "outputs": [],
   "source": [
    "torch.onnx.export(net, x, path+'/conv1.onnx')"
   ]
  },
  {
   "cell_type": "code",
   "execution_count": 22,
   "id": "d70de03b",
   "metadata": {},
   "outputs": [],
   "source": [
    "class Net(nn.Module):\n",
    "    def __init__(self):\n",
    "        super(Net, self).__init__()\n",
    "        self.conv1 = nn.Conv2d(1, 8, 5, padding=2)\n",
    "        self.pool = nn.MaxPool2d(2, 2)\n",
    "        self.conv2 = nn.Conv2d(8, 8, 3, padding=1)\n",
    "        self.fc1 = nn.Linear(8 * 7 * 7, 128)\n",
    "        self.fc2 = nn.Linear(128, 64)\n",
    "        self.fc3 = nn.Linear(64, 10)\n",
    "        self.dropout = nn.Dropout(0.25)\n",
    "        \n",
    "\n",
    "    def forward(self, x):\n",
    "        x = F.relu(self.conv1(x))\n",
    "        x = self.pool(x)\n",
    "        x2 = F.relu(self.conv2(x))\n",
    "        x = x + x2\n",
    "        x = self.pool(x)\n",
    "        x = x.view(-1, 8 * 7 * 7)\n",
    "        x = F.relu(self.fc1(x))\n",
    "        x = self.dropout(x)\n",
    "        x = F.relu(self.fc2(x))\n",
    "        x = self.fc3(x)\n",
    "        return x"
   ]
  },
  {
   "cell_type": "code",
   "execution_count": 23,
   "id": "8151b608",
   "metadata": {},
   "outputs": [],
   "source": [
    "net = Net()"
   ]
  },
  {
   "cell_type": "code",
   "execution_count": 24,
   "id": "f6841b16",
   "metadata": {},
   "outputs": [
    {
     "name": "stdout",
     "output_type": "stream",
     "text": [
      "[1,   100] loss: 2.283\n",
      "[1,   200] loss: 2.114\n",
      "[1,   300] loss: 1.071\n",
      "[1,   400] loss: 0.480\n",
      "[1,   500] loss: 0.318\n",
      "[1,   600] loss: 0.258\n",
      "[1,   700] loss: 0.216\n",
      "[1,   800] loss: 0.192\n",
      "[1,   900] loss: 0.191\n",
      "\n",
      "Training Time (in minutes) = 0.3792750835418701\n",
      "Accuracy: 95 %\n"
     ]
    }
   ],
   "source": [
    "criterion = nn.CrossEntropyLoss()\n",
    "optimizer = optim.SGD(net.parameters(), lr=0.003, momentum=0.9)\n",
    "\n",
    "time0 = time()\n",
    "epochs = 1\n",
    "\n",
    "for e in range(epochs):\n",
    "    running_loss = 0\n",
    "    for i, (images, labels) in enumerate(trainloader, 0):\n",
    "        optimizer.zero_grad()\n",
    "        res = net(images)\n",
    "        loss = criterion(res, labels)\n",
    "        loss.backward()\n",
    "        optimizer.step()\n",
    "        \n",
    "        running_loss += loss.item()\n",
    "        \n",
    "        dbg_samples = 100\n",
    "        if (i + 1) % dbg_samples == 0:    \n",
    "            print('[%d, %5d] loss: %.3f' %\n",
    "                  (e+1, i+1, running_loss / dbg_samples))\n",
    "            running_loss = 0.0\n",
    "        \n",
    "print(\"\\nTraining Time (in minutes) =\",(time()-time0)/60)\n",
    "\n",
    "\n",
    "correct = 0\n",
    "total = 0\n",
    "with torch.no_grad():\n",
    "    for data in testloader:\n",
    "        images, labels = data\n",
    "        outputs = net(images)\n",
    "        _, predicted = torch.max(outputs.data, 1)\n",
    "        total += labels.size(0)\n",
    "        correct += (predicted == labels).sum().item()\n",
    "\n",
    "print('Accuracy: %d %%' % (100 * correct / total))"
   ]
  },
  {
   "cell_type": "code",
   "execution_count": 25,
   "id": "30f6d666",
   "metadata": {},
   "outputs": [],
   "source": [
    "torch.onnx.export(net, x, path+'/conv2.onnx')"
   ]
  },
  {
   "cell_type": "code",
   "execution_count": 26,
   "id": "fd4fadae",
   "metadata": {},
   "outputs": [],
   "source": [
    "model=cv2.dnn.readNetFromONNX(path+'/conv1.onnx')"
   ]
  },
  {
   "cell_type": "code",
   "execution_count": 27,
   "id": "8a44e151",
   "metadata": {},
   "outputs": [],
   "source": [
    "img = cv2.imread(path+'/3.png',0)"
   ]
  },
  {
   "cell_type": "code",
   "execution_count": 28,
   "id": "ecd88abe",
   "metadata": {},
   "outputs": [],
   "source": [
    "from matplotlib import pyplot as plt"
   ]
  },
  {
   "cell_type": "code",
   "execution_count": 29,
   "id": "15250972",
   "metadata": {},
   "outputs": [
    {
     "data": {
      "text/plain": [
       "<matplotlib.image.AxesImage at 0x131ba0490>"
      ]
     },
     "execution_count": 29,
     "metadata": {},
     "output_type": "execute_result"
    },
    {
     "data": {
      "image/png": "[encoded data removed]",
      "text/plain": [
       "<Figure size 640x480 with 1 Axes>"
      ]
     },
     "metadata": {},
     "output_type": "display_data"
    }
   ],
   "source": [
    "plt.imshow(img, cmap=\"gray\")"
   ]
  },
  {
   "cell_type": "code",
   "execution_count": 30,
   "id": "2fbdb342",
   "metadata": {},
   "outputs": [],
   "source": [
    "img = 255-img\n",
    "img = cv2.resize(img, (28, 28), interpolation = cv2.INTER_AREA)\n",
    "blob = cv2.dnn.blobFromImage(img, 1./128, (28,28), (127.5,127.5,127.5), True)"
   ]
  },
  {
   "cell_type": "code",
   "execution_count": 31,
   "id": "162d770a",
   "metadata": {},
   "outputs": [
    {
     "data": {
      "text/plain": [
       "3"
      ]
     },
     "execution_count": 31,
     "metadata": {},
     "output_type": "execute_result"
    }
   ],
   "source": [
    "model.setInput(blob)\n",
    "outs = model.forward()\n",
    "np.argmax(outs)"
   ]
  },
  {
   "cell_type": "code",
   "execution_count": 44,
   "id": "f8fb434c",
   "metadata": {},
   "outputs": [],
   "source": [
    "image = cv2.imread(path+'/0-9.png')"
   ]
  },
  {
   "cell_type": "code",
   "execution_count": 45,
   "id": "8ff2ec82",
   "metadata": {},
   "outputs": [
    {
     "data": {
      "text/plain": [
       "<matplotlib.image.AxesImage at 0x134ccf710>"
      ]
     },
     "execution_count": 45,
     "metadata": {},
     "output_type": "execute_result"
    },
    {
     "data": {
      "image/png": "[encoded data removed]",
      "text/plain": [
       "<Figure size 640x480 with 1 Axes>"
      ]
     },
     "metadata": {},
     "output_type": "display_data"
    }
   ],
   "source": [
    "plt.imshow(image, cmap=\"gray\")"
   ]
  },
  {
   "cell_type": "code",
   "execution_count": 46,
   "id": "b5493a93",
   "metadata": {},
   "outputs": [],
   "source": [
    "img = cv2.cvtColor(image, cv2.COLOR_BGR2GRAY)\n",
    "ret, img = cv2.threshold(img,0,255,cv2.THRESH_BINARY_INV+cv2.THRESH_OTSU)\n",
    "contours, _ = cv2.findContours(img, cv2.RETR_EXTERNAL, cv2.CHAIN_APPROX_NONE)\n",
    "height, width = img.shape[:2]"
   ]
  },
  {
   "cell_type": "code",
   "execution_count": 47,
   "id": "399dee6d",
   "metadata": {},
   "outputs": [],
   "source": [
    "for c in contours:\n",
    "    x, y, w, h = cv2.boundingRect(c)\n",
    "    cv2.rectangle(image, (x, y), (x+w-1, y+h-1), (255,255,0),1)\n",
    "    sz2 = int(1.1*max(w,h)/2)\n",
    "    xc = x + int(w/2)\n",
    "    yc = y + int(h/2)\n",
    "    cv2.rectangle(image, (xc-sz2, yc-sz2), (xc+sz2, yc+sz2), (255,0,0),1)\n",
    "    img2 = img[max(0,yc-sz2):min(yc+sz2,height-1),max(0,xc-sz2):min(width-1,xc+sz2)]\n",
    "    img2 = cv2.resize(img2, (28, 28))\n",
    "    blob = cv2.dnn.blobFromImage(img2, 1./127, (28,28), (127,127,127), True)\n",
    "    model.setInput(blob)\n",
    "    outs = model.forward()\n",
    "    res = np.argmax(outs)\n",
    "    \n",
    "    cv2.putText(image, str(res), (x-10, y+10),  cv2.FONT_HERSHEY_SIMPLEX,\n",
    "\t1.5, (50, 50, 255),1)"
   ]
  },
  {
   "cell_type": "code",
   "execution_count": 48,
   "id": "bab380b4",
   "metadata": {},
   "outputs": [
    {
     "data": {
      "text/plain": [
       "<matplotlib.image.AxesImage at 0x134e95b50>"
      ]
     },
     "execution_count": 48,
     "metadata": {},
     "output_type": "execute_result"
    },
    {
     "data": {
      "image/png": "[encoded data removed]",
      "text/plain": [
       "<Figure size 640x480 with 1 Axes>"
      ]
     },
     "metadata": {},
     "output_type": "display_data"
    }
   ],
   "source": [
    "plt.imshow(image, cmap=\"gray\")"
   ]
  },
  {
   "cell_type": "code",
   "execution_count": null,
   "id": "08f38ab3",
   "metadata": {},
   "outputs": [],
   "source": []
  }
 ],
 "metadata": {
  "kernelspec": {
   "display_name": "Python 3 (ipykernel)",
   "language": "python",
   "name": "python3"
  },
  "language_info": {
   "codemirror_mode": {
    "name": "ipython",
    "version": 3
   },
   "file_extension": ".py",
   "mimetype": "text/x-python",
   "name": "python",
   "nbconvert_exporter": "python",
   "pygments_lexer": "ipython3",
   "version": "3.7.7"
  }
 },
 "nbformat": 4,
 "nbformat_minor": 5
}
